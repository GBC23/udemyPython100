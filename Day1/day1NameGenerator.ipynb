{
  "nbformat": 4,
  "nbformat_minor": 0,
  "metadata": {
    "colab": {
      "provenance": [],
      "authorship_tag": "ABX9TyM3RtsUoyyO5+7ufyx+pGk4",
      "include_colab_link": true
    },
    "kernelspec": {
      "name": "python3",
      "display_name": "Python 3"
    },
    "language_info": {
      "name": "python"
    }
  },
  "cells": [
    {
      "cell_type": "markdown",
      "metadata": {
        "id": "view-in-github",
        "colab_type": "text"
      },
      "source": [
        "<a href=\"https://colab.research.google.com/github/GBC23/udemyPython100/blob/main/day1_name_generator.ipynb\" target=\"_parent\"><img src=\"https://colab.research.google.com/assets/colab-badge.svg\" alt=\"Open In Colab\"/></a>"
      ]
    },
    {
      "cell_type": "code",
      "source": [
        "print('hello world')"
      ],
      "metadata": {
        "colab": {
          "base_uri": "https://localhost:8080/"
        },
        "id": "vCTHkRa4wdVB",
        "outputId": "10d51eef-c7cd-4686-a193-38da43b8e01d"
      },
      "execution_count": null,
      "outputs": [
        {
          "output_type": "stream",
          "name": "stdout",
          "text": [
            "hello world\n"
          ]
        }
      ]
    },
    {
      "cell_type": "code",
      "source": [
        "print(\"Hello\" + \"Angela\")"
      ],
      "metadata": {
        "colab": {
          "base_uri": "https://localhost:8080/"
        },
        "id": "X6IZ0KCTwey0",
        "outputId": "d99e8d78-2cfb-4616-be93-cb10e885b55d"
      },
      "execution_count": null,
      "outputs": [
        {
          "output_type": "stream",
          "name": "stdout",
          "text": [
            "HelloAngela\n"
          ]
        }
      ]
    },
    {
      "cell_type": "code",
      "source": [
        "print('hello' + ' ' + 'angela')"
      ],
      "metadata": {
        "id": "bZ2TgdKSw0VK",
        "colab": {
          "base_uri": "https://localhost:8080/"
        },
        "outputId": "b2a023e9-2cd1-4eac-c2f5-a572f192da5b"
      },
      "execution_count": null,
      "outputs": [
        {
          "output_type": "stream",
          "name": "stdout",
          "text": [
            "hello angela\n"
          ]
        }
      ]
    },
    {
      "cell_type": "code",
      "source": [
        "print('hello ' + input (\"what is your name?\") + '!')"
      ],
      "metadata": {
        "id": "dLOmWsZ_Syxm",
        "colab": {
          "base_uri": "https://localhost:8080/"
        },
        "outputId": "f596240f-4380-419d-8d78-dfd5b5f8211d"
      },
      "execution_count": null,
      "outputs": [
        {
          "output_type": "stream",
          "name": "stdout",
          "text": [
            "what is your name?big titty horny fuckable bith\n",
            "hello big titty horny fuckable bith!\n"
          ]
        }
      ]
    },
    {
      "cell_type": "code",
      "source": [
        "len(input())"
      ],
      "metadata": {
        "colab": {
          "base_uri": "https://localhost:8080/"
        },
        "id": "x9DwPXWgVFMh",
        "outputId": "0dfebfb0-4a79-4a48-c9e6-6c8e4a9a8ca0"
      },
      "execution_count": null,
      "outputs": [
        {
          "name": "stdout",
          "output_type": "stream",
          "text": [
            "q2erqewr\n"
          ]
        },
        {
          "output_type": "execute_result",
          "data": {
            "text/plain": [
              "8"
            ]
          },
          "metadata": {},
          "execution_count": 23
        }
      ]
    },
    {
      "cell_type": "code",
      "source": [
        "name = input('what is your name?')"
      ],
      "metadata": {
        "colab": {
          "base_uri": "https://localhost:8080/"
        },
        "id": "cYkhPUJVWgDT",
        "outputId": "262c8976-46c5-422d-8d43-749de83ab5a7"
      },
      "execution_count": null,
      "outputs": [
        {
          "output_type": "stream",
          "name": "stdout",
          "text": [
            "what is your name?fuck\n",
            "fuck\n"
          ]
        }
      ]
    },
    {
      "cell_type": "code",
      "source": [
        "print(len(input('what is your name?')))"
      ],
      "metadata": {
        "colab": {
          "base_uri": "https://localhost:8080/"
        },
        "id": "2L8bscfLYFMD",
        "outputId": "9def2ff4-6f80-4bda-81a9-8f6f5b0c3421"
      },
      "execution_count": null,
      "outputs": [
        {
          "output_type": "stream",
          "name": "stdout",
          "text": [
            "what is your name?Yeongik Song\n",
            "12\n"
          ]
        }
      ]
    },
    {
      "cell_type": "code",
      "source": [
        "print()\n",
        "name = input('what is your name?')\n",
        "length = len(name)"
      ],
      "metadata": {
        "colab": {
          "base_uri": "https://localhost:8080/"
        },
        "id": "dOgc2brwYJPv",
        "outputId": "64101383-cb09-4971-d637-3f2e0b2e80ea"
      },
      "execution_count": null,
      "outputs": [
        {
          "name": "stdout",
          "output_type": "stream",
          "text": [
            "\n",
            "what is your name?Fuck\n"
          ]
        }
      ]
    },
    {
      "cell_type": "code",
      "source": [
        "a = input()\n",
        "b = input()\n",
        "\n",
        "c = a\n",
        "a = b\n",
        "b = c\n",
        "\n",
        "print('a:' + a)\n",
        "print('b:' + b)\n",
        "\n",
        "\n"
      ],
      "metadata": {
        "colab": {
          "base_uri": "https://localhost:8080/"
        },
        "id": "tJotseOfZVQW",
        "outputId": "c1783be5-ce0e-499a-bf42-d3ad15dec282"
      },
      "execution_count": null,
      "outputs": [
        {
          "output_type": "stream",
          "name": "stdout",
          "text": [
            "29\n",
            "41\n",
            "a:41\n",
            "b:29\n"
          ]
        }
      ]
    },
    {
      "cell_type": "code",
      "source": [
        "user_name = input('What is your name?')\n",
        "length1 = len(user_name) # 1 length -> you will fucked up.\n",
        "print(length1)"
      ],
      "metadata": {
        "colab": {
          "base_uri": "https://localhost:8080/"
        },
        "id": "uFQjkYq5aV2J",
        "outputId": "20e372df-1fc7-498e-9a1a-ab703ed054bd"
      },
      "execution_count": null,
      "outputs": [
        {
          "output_type": "stream",
          "name": "stdout",
          "text": [
            "What is your name?fuck\n",
            "4\n"
          ]
        }
      ]
    },
    {
      "cell_type": "code",
      "source": [
        "print('Hello! This is name generator.')\n",
        "\n",
        "a = input('What is the city that you grew up in?\\n')\n",
        "\n",
        "b = input(\"What is your pet's name?\\n\")\n",
        "\n",
        "print(a + ' ' + b)\n"
      ],
      "metadata": {
        "colab": {
          "base_uri": "https://localhost:8080/"
        },
        "id": "DxkUmj5Kdpvk",
        "outputId": "70e10ead-4beb-4f6c-8772-5469a126a89b"
      },
      "execution_count": null,
      "outputs": [
        {
          "output_type": "stream",
          "name": "stdout",
          "text": [
            "Hello! This is name generator.\n",
            "What is the city that you grew up in?\n",
            "fuck\n",
            "What is your pet's name?\n",
            "you\n",
            "fuck you\n"
          ]
        }
      ]
    }
  ]
}