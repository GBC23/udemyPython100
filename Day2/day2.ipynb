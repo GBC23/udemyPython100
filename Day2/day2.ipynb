{
  "nbformat": 4,
  "nbformat_minor": 0,
  "metadata": {
    "colab": {
      "provenance": [],
      "authorship_tag": "ABX9TyMVdlMabcEorZePJTLKPWGe",
      "include_colab_link": true
    },
    "kernelspec": {
      "name": "python3",
      "display_name": "Python 3"
    },
    "language_info": {
      "name": "python"
    }
  },
  "cells": [
    {
      "cell_type": "markdown",
      "metadata": {
        "id": "view-in-github",
        "colab_type": "text"
      },
      "source": [
        "<a href=\"https://colab.research.google.com/github/GBC23/udemyPython100/blob/main/day2.ipynb\" target=\"_parent\"><img src=\"https://colab.research.google.com/assets/colab-badge.svg\" alt=\"Open In Colab\"/></a>"
      ]
    },
    {
      "cell_type": "code",
      "execution_count": null,
      "metadata": {
        "colab": {
          "base_uri": "https://localhost:8080/"
        },
        "id": "5n7iBuujSw92",
        "outputId": "2851c9dd-1815-43bf-960c-534f921f91b4"
      },
      "outputs": [
        {
          "output_type": "stream",
          "name": "stdout",
          "text": [
            "o\n",
            "123345\n",
            "468\n",
            "468472\n",
            "3144.7315900000003\n"
          ]
        }
      ],
      "source": [
        "# Data Types\n",
        "\n",
        "# String\n",
        "\n",
        "print('hello'[4])\n",
        "\n",
        "print('123' + '345')\n",
        "\n",
        "# Integer\n",
        "\n",
        "print(123 + 345)\n",
        "\n",
        "print(123_123 + 345_349)\n",
        "\n",
        "# float\n",
        "\n",
        "print(3.14159 + 3141.59)\n",
        "\n",
        "# Boolean\n",
        "\n",
        "True\n",
        "False"
      ]
    },
    {
      "cell_type": "code",
      "source": [
        "num_char = len(input('What is your name?'))\n",
        "\n",
        "new_num_char = str(num_char)\n",
        "\n",
        "print(type(new_num_char))\n",
        "\n",
        "print('your name has', new_num_char,' characters.')\n"
      ],
      "metadata": {
        "colab": {
          "base_uri": "https://localhost:8080/"
        },
        "id": "fKT_go1yTjoa",
        "outputId": "247ea824-bb78-487f-c4dd-d72d33e3b75e"
      },
      "execution_count": null,
      "outputs": [
        {
          "output_type": "stream",
          "name": "stdout",
          "text": [
            "What is your name?chris\n",
            "<class 'str'>\n",
            "your name has 5  characters.\n"
          ]
        }
      ]
    },
    {
      "cell_type": "code",
      "source": [
        "a = 123\n",
        "\n",
        "print(type(a))\n",
        "\n",
        "a = str(123)\n",
        "\n",
        "print(type(a))\n",
        "\n",
        "print(70 + float('100.5'))\n",
        "print(70, str(100))\n",
        "# print(60 + str(100)) This would be errored."
      ],
      "metadata": {
        "colab": {
          "base_uri": "https://localhost:8080/"
        },
        "id": "0e9NCP8taT2t",
        "outputId": "276d030b-cf7f-4080-8179-3502aeaf279f"
      },
      "execution_count": null,
      "outputs": [
        {
          "output_type": "stream",
          "name": "stdout",
          "text": [
            "<class 'int'>\n",
            "<class 'str'>\n",
            "170.5\n",
            "70 100\n"
          ]
        }
      ]
    },
    {
      "cell_type": "code",
      "source": [
        "two_digit_number = input()\n",
        "\n",
        "firstDigit = int(two_digit_number[0])\n",
        "secondDigit = int(two_digit_number[1])\n",
        "\n",
        "# Add the two integers together\n",
        "two_digit_number = firstDigit + secondDigit\n",
        "\n",
        "print(two_digit_number)"
      ],
      "metadata": {
        "colab": {
          "base_uri": "https://localhost:8080/"
        },
        "id": "8YoM8A9qaxBq",
        "outputId": "e6524a5f-c2c5-406a-d1e1-e91b21cbc47f"
      },
      "execution_count": null,
      "outputs": [
        {
          "output_type": "stream",
          "name": "stdout",
          "text": [
            "32\n",
            "5\n"
          ]
        }
      ]
    },
    {
      "cell_type": "code",
      "source": [
        "3 + 5\n",
        "7 - 4\n",
        "3 * 2\n",
        "print(6 / 3)  # 2.0\n",
        "print(type(6/3)) # ALWAYS float\n",
        "print(int(6/3)) # 2\n",
        "\n",
        "print(2 ** 3) # ** -> square\n",
        "\n",
        "# PEMDAS\n",
        "# Parentheses\n",
        "# Exponents\n",
        "# Multiplication\n",
        "# Divition\n",
        "# Addition\n",
        "# Subtraction\n",
        "\n",
        "print(3 * 3 + 3 / 3 - 3)"
      ],
      "metadata": {
        "colab": {
          "base_uri": "https://localhost:8080/"
        },
        "id": "keSsapMyrYvh",
        "outputId": "037a1b90-78fd-404c-a0c3-6831a7d712b7"
      },
      "execution_count": null,
      "outputs": [
        {
          "output_type": "stream",
          "name": "stdout",
          "text": [
            "2.0\n",
            "<class 'float'>\n",
            "2\n",
            "8\n",
            "7.0\n"
          ]
        }
      ]
    },
    {
      "cell_type": "code",
      "source": [
        "# 1st input : enter height in meters e.g : 1.65\n",
        "\n",
        "print('Input your height in Meters')\n",
        "\n",
        "height = input()\n",
        "\n",
        "# 2nd input : enter weight in kilograms e.g : 62\n",
        "\n",
        "print('Input your weight in Kg')\n",
        "\n",
        "weight = input()\n",
        "\n",
        "# Don't change the code above\n",
        "\n",
        "# Write your code below this line\n",
        "\n",
        "floatHeight = float(height)\n",
        "floatWeight = float(weight)\n",
        "BMI = floatWeight / floatHeight **2\n",
        "print('Your BMI is : ', BMI)"
      ],
      "metadata": {
        "id": "LTPO22adtlGc",
        "colab": {
          "base_uri": "https://localhost:8080/"
        },
        "outputId": "8be7b135-ae4c-4ff0-dac8-377d367f2c60"
      },
      "execution_count": 45,
      "outputs": [
        {
          "output_type": "stream",
          "name": "stdout",
          "text": [
            "Input your height in Meters\n",
            "1.65\n",
            "Input your weight\n",
            "77.5\n",
            "Your BMI is :  28.466483011937562\n"
          ]
        }
      ]
    },
    {
      "cell_type": "code",
      "source": [
        "print(8/3)\n",
        "print(int(8/3)) # ㄹㅇ 정수값만 보여줌.\n",
        "print(round(8/3, 2)) # -> 값을 반올림 해준다.\n",
        "print(8//3) # -> 그냥 int 형태로 해줌\n",
        "print(type(8//3))\n",
        "\n",
        "result = 4 / 2\n",
        "\n",
        "\n",
        "\n"
      ],
      "metadata": {
        "colab": {
          "base_uri": "https://localhost:8080/"
        },
        "id": "QcnWJxpFAAh1",
        "outputId": "4cdb2d40-f078-4035-9ecf-bbc1c70c381d"
      },
      "execution_count": 78,
      "outputs": [
        {
          "output_type": "stream",
          "name": "stdout",
          "text": [
            "2.6666666666666665\n",
            "2\n",
            "2.67\n",
            "2\n",
            "<class 'int'>\n"
          ]
        }
      ]
    }
  ]
}