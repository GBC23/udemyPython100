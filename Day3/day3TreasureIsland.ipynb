{
  "nbformat": 4,
  "nbformat_minor": 0,
  "metadata": {
    "colab": {
      "provenance": [],
      "authorship_tag": "ABX9TyMlVU//XXsJohI5ivC6VpHB",
      "include_colab_link": true
    },
    "kernelspec": {
      "name": "python3",
      "display_name": "Python 3"
    },
    "language_info": {
      "name": "python"
    }
  },
  "cells": [
    {
      "cell_type": "markdown",
      "metadata": {
        "id": "view-in-github",
        "colab_type": "text"
      },
      "source": [
        "<a href=\"https://colab.research.google.com/github/GBC23/udemyPython100/blob/main/Day3_treasure_island.ipynb\" target=\"_parent\"><img src=\"https://colab.research.google.com/assets/colab-badge.svg\" alt=\"Open In Colab\"/></a>"
      ]
    },
    {
      "cell_type": "code",
      "execution_count": null,
      "metadata": {
        "colab": {
          "base_uri": "https://localhost:8080/"
        },
        "id": "K_-f1noIcKYV",
        "outputId": "e346bec9-bd50-4d64-d04c-43b13bef8d87"
      },
      "outputs": [
        {
          "output_type": "stream",
          "name": "stdout",
          "text": [
            "Drain water\n"
          ]
        }
      ],
      "source": [
        "waterLevel = 60\n",
        "if waterLevel > 50:\n",
        "  print('Drain water')\n"
      ]
    },
    {
      "cell_type": "code",
      "source": [
        "print('Welcome to the rollercoaster!')\n",
        "height = float(input('What is your height in cm? : '))\n",
        "\n",
        "if height < 120 :\n",
        "  print('Sry. You can\\'t ride this.')\n",
        "else:\n",
        "  print('Yup. Go ahead!')\n"
      ],
      "metadata": {
        "colab": {
          "base_uri": "https://localhost:8080/"
        },
        "id": "XVLvImLmeJcv",
        "outputId": "d22fc0d5-ca75-4a83-ce0b-f9a4ec9fdbaa"
      },
      "execution_count": null,
      "outputs": [
        {
          "output_type": "stream",
          "name": "stdout",
          "text": [
            "Welcome to the rollercoaster!\n",
            "What is your height in cm? : 111\n",
            "Sry. You can't ride this.\n"
          ]
        }
      ]
    },
    {
      "cell_type": "code",
      "source": [
        "# > Greater than\n",
        "# < Less than\n",
        "# >= Greater than equal to\n",
        "# <= Less than equal to\n",
        "# == Equal to\n"
      ],
      "metadata": {
        "id": "1ZtxyE_Tfxbf"
      },
      "execution_count": null,
      "outputs": []
    },
    {
      "cell_type": "code",
      "source": [
        "# Which number do you want to check?\n",
        "number = int(input())\n",
        "# 🚨 Don't change the code above 👆\n",
        "\n",
        "\n",
        "\n",
        "# Write your code below this line 👇\n",
        "if number % 2 == 0:\n",
        "  print('This is an even number.')\n",
        "else:\n",
        "  print('This is an odd number.')"
      ],
      "metadata": {
        "colab": {
          "base_uri": "https://localhost:8080/"
        },
        "id": "jRgLu9YPgHIQ",
        "outputId": "b3911fb1-8b63-4fef-9bca-5fe337c87154"
      },
      "execution_count": null,
      "outputs": [
        {
          "output_type": "stream",
          "name": "stdout",
          "text": [
            "177\n",
            "This is an odd number.\n"
          ]
        }
      ]
    },
    {
      "cell_type": "code",
      "source": [
        "print('Welcome to the rollercoaster!')\n",
        "height = float(input('What is your height in cm? : '))\n",
        "\n",
        "if height < 120 :\n",
        "  print('Sry. You can\\'t ride this.')\n",
        "  age = float(input('What is your age? : '))\n",
        "  if age < 12 :\n",
        "    print('Please pay $5.')\n",
        "  elif 12 <= age < 18 :\n",
        "    print('Please pay $7.')\n",
        "  else:\n",
        "    print('Please pay $12.')\n",
        "else:\n",
        "  print('Yup. Go ahead!')"
      ],
      "metadata": {
        "colab": {
          "base_uri": "https://localhost:8080/"
        },
        "id": "WSLjp-rti1C5",
        "outputId": "7d0a36d5-f458-4074-f439-4723e7092ac4"
      },
      "execution_count": null,
      "outputs": [
        {
          "output_type": "stream",
          "name": "stdout",
          "text": [
            "Welcome to the rollercoaster!\n",
            "What is your height in cm? : 112\n",
            "Sry. You can't ride this.\n",
            "What is your age? : 25\n",
            "Please pay $12.\n"
          ]
        }
      ]
    },
    {
      "cell_type": "code",
      "source": [
        "print('Welcome to the rollercoaster!')\n",
        "height = float(input('What is your height in cm? : '))\n",
        "\n",
        "if height < 120 :\n",
        "  print('Sry. You can\\'t ride this.')\n",
        "  age = float(input('What is your age? : '))\n",
        "  if age <= 18:\n",
        "    print('Please pay $7.')\n",
        "  else:\n",
        "    print('Please pay $12.')f\n",
        "else:\n",
        "  print('Yup. Go ahead!')"
      ],
      "metadata": {
        "colab": {
          "base_uri": "https://localhost:8080/"
        },
        "id": "kJe6AFQpjo2r",
        "outputId": "9a840bd8-46fd-4887-a445-29d51278af92"
      },
      "execution_count": null,
      "outputs": [
        {
          "output_type": "stream",
          "name": "stdout",
          "text": [
            "Welcome to the rollercoaster!\n",
            "What is your height in cm? : 177\n",
            "Yup. Go ahead!\n"
          ]
        }
      ]
    },
    {
      "cell_type": "code",
      "source": [
        "# Enter your height in meters e.g., 1.55\n",
        "height = float(input('Input your height in Meters : '))\n",
        "# Enter your weight in kilograms e.g., 72\n",
        "weight = int(input('Input your height in Kg'))\n",
        "# 🚨 Don't change the code above 👆\n",
        "\n",
        "#Write your code below this line 👇\n",
        "\n",
        "bmi = round(weight/height**2,1)\n",
        "if bmi < 18.5 :\n",
        "  print(f'Your BMI is {bmi}, you are underweight.')\n",
        "elif 18.5 <= bmi < 25 :\n",
        "  print(f'Your BMI is {bmi}, you have a normal weight.')\n",
        "elif 25 <= bmi < 30 :\n",
        "  print(f'Your BMI is {bmi}, you are slightly overweight.')\n",
        "elif 30 <= bmi < 35 :\n",
        "  print(f'Your BMI is {bmi}, you are obese.')\n",
        "else:\n",
        "  print(f'Your BMI is {bmi}, you are clinically obese.')"
      ],
      "metadata": {
        "colab": {
          "base_uri": "https://localhost:8080/"
        },
        "id": "wcpYTrYrq6nz",
        "outputId": "07016ce7-409d-4d82-d1cb-22e6f9539593"
      },
      "execution_count": null,
      "outputs": [
        {
          "output_type": "stream",
          "name": "stdout",
          "text": [
            "Input your height in Meters : 1.77\n",
            "Input your height in Kg77\n",
            "Your BMI is 24.6, you have a normal weight.\n"
          ]
        }
      ]
    },
    {
      "cell_type": "code",
      "source": [
        "# Which year do you want to check?\n",
        "year = int(input())\n",
        "# 🚨 Don't change the code above 👆\n",
        "\n",
        "# Write your code below this line 👇\n",
        "if year % 4 == 0 :\n",
        "  if year % 100 == 0 :\n",
        "    if year % 400 == 0 :\n",
        "      print('Leap year')\n",
        "    else:\n",
        "      print('Not leap year ')\n",
        "  else:\n",
        "    print('Leap year')\n",
        "else:\n",
        "  print('Not leap year')"
      ],
      "metadata": {
        "colab": {
          "base_uri": "https://localhost:8080/"
        },
        "id": "SQPEQNTuzQix",
        "outputId": "dcb0418f-f37b-42ab-ff9a-a0560cdb3cf5"
      },
      "execution_count": null,
      "outputs": [
        {
          "output_type": "stream",
          "name": "stdout",
          "text": [
            "2000\n",
            "Leap year\n"
          ]
        }
      ]
    },
    {
      "cell_type": "code",
      "source": [
        "print('Welcome to the rollercoaster!')\n",
        "height = float(input('What is your height in cm? : '))\n",
        "\n",
        "if height >= 120 :\n",
        "  print('Yup. Go ahead.')\n",
        "  age = float(input('What is your age? : '))\n",
        "  if age < 12 :\n",
        "    print('Please pay $5.')\n",
        "    bill = 5\n",
        "  elif 12 <= age < 18 :\n",
        "    print('Please pay $7.')\n",
        "    bill = 7\n",
        "  else:\n",
        "    print('Please pay $12.')\n",
        "    bill = 12\n",
        "\n",
        "  wants_photo = input('Do you want a photo taken? say yes or no. :')\n",
        "  if wants_photo == 'yes':\n",
        "    bill +=3\n",
        "\n",
        "  print(f'Your final billl is ${bill}')\n",
        "else:\n",
        "  print('Sorry. You can\\'t ride this.')"
      ],
      "metadata": {
        "colab": {
          "base_uri": "https://localhost:8080/"
        },
        "id": "FrtZ4ccL4xcE",
        "outputId": "4a875c98-5555-4bad-8745-f0271ff41dda"
      },
      "execution_count": null,
      "outputs": [
        {
          "output_type": "stream",
          "name": "stdout",
          "text": [
            "Welcome to the rollercoaster!\n",
            "What is your height in cm? : 177\n",
            "Yup. Go ahead.\n",
            "What is your age? : 25\n",
            "Do you want a photo taken? say yes or no.yes\n",
            "Please pay $12.\n",
            "Your final billl is $15\n"
          ]
        }
      ]
    },
    {
      "cell_type": "code",
      "source": [
        "print(\"Thank you for choosing Python Pizza Deliveries!\")\n",
        "size = input() # What size pizza do you want? S, M, or L\n",
        "add_pepperoni = input() # Do you want pepperoni? Y or N\n",
        "extra_cheese = input() # Do you want extra cheese? Y or N\n",
        "# 🚨 Don't change the code above 👆\n",
        "# Write your code below this line 👇\n",
        "bill = 0\n",
        "if size == 'S':\n",
        "  bill += 15\n",
        "  if add_pepperoni == 'Y':\n",
        "    bill += 2\n",
        "    if extra_cheese == 'Y':\n",
        "      bill += 1\n",
        "    else:\n",
        "      pass\n",
        "\n",
        "  else:\n",
        "    pass\n",
        "    if extra_cheese == 'Y':\n",
        "      bill += 1\n",
        "    else:\n",
        "      pass\n",
        "elif size == 'M':\n",
        "  bill += 20\n",
        "  if add_pepperoni == 'Y':\n",
        "    bill += 3\n",
        "    if extra_cheese == 'Y':\n",
        "      bill += 1\n",
        "    else:\n",
        "      pass\n",
        "\n",
        "  else:\n",
        "    pass\n",
        "    if extra_cheese == 'Y':\n",
        "      bill += 1\n",
        "    else:\n",
        "      pass\n",
        "else:\n",
        "  bill += 25\n",
        "  if add_pepperoni == 'Y':\n",
        "    bill += 3\n",
        "    if extra_cheese == 'Y':\n",
        "      bill += 1\n",
        "    else:\n",
        "      pass\n",
        "\n",
        "  else:\n",
        "    pass\n",
        "    if extra_cheese == 'Y':\n",
        "      bill += 1\n",
        "    else:\n",
        "      pass\n",
        "\n",
        "print(f'Your final bill is : ${bill}.')\n",
        "\n"
      ],
      "metadata": {
        "colab": {
          "base_uri": "https://localhost:8080/"
        },
        "id": "Vtjlqp8p5zXb",
        "outputId": "0b1f9cd4-7146-4b5a-9130-cb9b7e01471c"
      },
      "execution_count": null,
      "outputs": [
        {
          "output_type": "stream",
          "name": "stdout",
          "text": [
            "Thank you for choosing Python Pizza Deliveries!\n",
            "L\n",
            "Y\n",
            "N\n",
            "Your final bill is : $53.\n"
          ]
        }
      ]
    },
    {
      "cell_type": "code",
      "source": [
        "print('Welcome to the rollercoaster!')\n",
        "height = float(input('What is your height in cm? : '))\n",
        "\n",
        "if height >= 120 :\n",
        "  print('Yup. Go ahead.')\n",
        "  age = float(input('What is your age? : '))\n",
        "  if age < 12 :\n",
        "    print('Please pay $5.')\n",
        "    bill = 5\n",
        "  elif 12 <= age < 18 :\n",
        "    print('Please pay $7.')\n",
        "    bill = 7\n",
        "  elif 45 <= age <= 55:\n",
        "    print('Free.')\n",
        "    bill = 0\n",
        "  else:\n",
        "    print('Please pay $12.')\n",
        "    bill = 12\n",
        "\n",
        "  wants_photo = input('Do you want a photo taken? say yes or no. :')\n",
        "  if wants_photo == 'yes':\n",
        "    bill +=3\n",
        "\n",
        "  print(f'Your final billl is ${bill}')\n",
        "else:\n",
        "  print('Sorry. You can\\'t ride this.')"
      ],
      "metadata": {
        "colab": {
          "base_uri": "https://localhost:8080/"
        },
        "id": "GCYTQZ2jGIuB",
        "outputId": "e835dbd0-94c6-4dd5-e3d7-e33ce526cb00"
      },
      "execution_count": null,
      "outputs": [
        {
          "output_type": "stream",
          "name": "stdout",
          "text": [
            "Welcome to the rollercoaster!\n",
            "What is your height in cm? : 177\n",
            "Yup. Go ahead.\n",
            "What is your age? : 45\n",
            "Free.\n",
            "Do you want a photo taken? say yes or no. :yes\n",
            "Your final billl is $3\n"
          ]
        }
      ]
    },
    {
      "cell_type": "code",
      "source": [
        "print(\"The Love Calculator is calculating your score...\")\n",
        "name1 = input('What is your name?') # What is your name?\n",
        "name2 = input('What is your name?') # What is their name?\n",
        "# 🚨 Don't change the code above 👆\n",
        "# Write your code below this line 👇\n",
        "\n",
        "\n",
        "\n"
      ],
      "metadata": {
        "colab": {
          "base_uri": "https://localhost:8080/"
        },
        "id": "dlcq5HNhG9DW",
        "outputId": "f5b06228-47a4-4474-d56d-89c46ee52d6b"
      },
      "execution_count": null,
      "outputs": [
        {
          "name": "stdout",
          "output_type": "stream",
          "text": [
            "The Love Calculator is calculating your score...\n",
            "Chris song\n",
            "Fuck\n"
          ]
        }
      ]
    },
    {
      "cell_type": "code",
      "source": [
        "print(\"The Love Calculator is calculating your score...\")\n",
        "name1 = input('What is your name?') # What is your name?\n",
        "name2 = input('What is their name?') # What is their name?\n",
        "# 🚨 Don't change the code above 👆\n",
        "# Write your code below this line 👇\n",
        "\n",
        "name = name1 + name2\n",
        "\n",
        "name_lower = name.lower()\n",
        "\n",
        "name_t = name_lower.count('t')\n",
        "name_r = name_lower.count('r')\n",
        "name_u = name_lower.count('u')\n",
        "name_e = name_lower.count('e')\n",
        "\n",
        "name_true = name_t + name_r + name_u + name_e\n",
        "\n",
        "name_l = name_lower.count('l')\n",
        "name_o = name_lower.count('o')\n",
        "name_v = name_lower.count('v')\n",
        "name_e = name_lower.count('e')\n",
        "\n",
        "name_love = name_l + name_o + name_v + name_e\n",
        "\n",
        "score = int(f'{name_true}{name_love}')\n",
        "\n",
        "print(score)\n",
        "\n",
        "\n",
        "if score < 10 or score > 90 :\n",
        "  print(f'Your score is {score}, you go together like coke and mentos.')\n",
        "elif 40 < score < 50 :\n",
        "  print(f'Your score is {score}, you are alright together.')\n",
        "else:\n",
        "  print(f'Your score is {score}.')\n",
        "\n",
        "\n",
        "\n"
      ],
      "metadata": {
        "colab": {
          "base_uri": "https://localhost:8080/",
          "height": 419
        },
        "id": "5qssI47hVvI3",
        "outputId": "568faf0c-93d9-4ff1-c9a7-bfb4751ce651"
      },
      "execution_count": null,
      "outputs": [
        {
          "output_type": "stream",
          "name": "stdout",
          "text": [
            "The Love Calculator is calculating your score...\n"
          ]
        },
        {
          "output_type": "error",
          "ename": "KeyboardInterrupt",
          "evalue": "ignored",
          "traceback": [
            "\u001b[0;31m---------------------------------------------------------------------------\u001b[0m",
            "\u001b[0;31mKeyboardInterrupt\u001b[0m                         Traceback (most recent call last)",
            "\u001b[0;32m<ipython-input-76-c38de8267bdb>\u001b[0m in \u001b[0;36m<cell line: 2>\u001b[0;34m()\u001b[0m\n\u001b[1;32m      1\u001b[0m \u001b[0mprint\u001b[0m\u001b[0;34m(\u001b[0m\u001b[0;34m\"The Love Calculator is calculating your score...\"\u001b[0m\u001b[0;34m)\u001b[0m\u001b[0;34m\u001b[0m\u001b[0;34m\u001b[0m\u001b[0m\n\u001b[0;32m----> 2\u001b[0;31m \u001b[0mname1\u001b[0m \u001b[0;34m=\u001b[0m \u001b[0minput\u001b[0m\u001b[0;34m(\u001b[0m\u001b[0;34m'What is your name?'\u001b[0m\u001b[0;34m)\u001b[0m \u001b[0;31m# What is your name?\u001b[0m\u001b[0;34m\u001b[0m\u001b[0;34m\u001b[0m\u001b[0m\n\u001b[0m\u001b[1;32m      3\u001b[0m \u001b[0mname2\u001b[0m \u001b[0;34m=\u001b[0m \u001b[0minput\u001b[0m\u001b[0;34m(\u001b[0m\u001b[0;34m'What is their name?'\u001b[0m\u001b[0;34m)\u001b[0m \u001b[0;31m# What is their name?\u001b[0m\u001b[0;34m\u001b[0m\u001b[0;34m\u001b[0m\u001b[0m\n\u001b[1;32m      4\u001b[0m \u001b[0;31m# 🚨 Don't change the code above 👆\u001b[0m\u001b[0;34m\u001b[0m\u001b[0;34m\u001b[0m\u001b[0m\n\u001b[1;32m      5\u001b[0m \u001b[0;31m# Write your code below this line 👇\u001b[0m\u001b[0;34m\u001b[0m\u001b[0;34m\u001b[0m\u001b[0m\n",
            "\u001b[0;32m/usr/local/lib/python3.10/dist-packages/ipykernel/kernelbase.py\u001b[0m in \u001b[0;36mraw_input\u001b[0;34m(self, prompt)\u001b[0m\n\u001b[1;32m    849\u001b[0m                 \u001b[0;34m\"raw_input was called, but this frontend does not support input requests.\"\u001b[0m\u001b[0;34m\u001b[0m\u001b[0;34m\u001b[0m\u001b[0m\n\u001b[1;32m    850\u001b[0m             )\n\u001b[0;32m--> 851\u001b[0;31m         return self._input_request(str(prompt),\n\u001b[0m\u001b[1;32m    852\u001b[0m             \u001b[0mself\u001b[0m\u001b[0;34m.\u001b[0m\u001b[0m_parent_ident\u001b[0m\u001b[0;34m,\u001b[0m\u001b[0;34m\u001b[0m\u001b[0;34m\u001b[0m\u001b[0m\n\u001b[1;32m    853\u001b[0m             \u001b[0mself\u001b[0m\u001b[0;34m.\u001b[0m\u001b[0m_parent_header\u001b[0m\u001b[0;34m,\u001b[0m\u001b[0;34m\u001b[0m\u001b[0;34m\u001b[0m\u001b[0m\n",
            "\u001b[0;32m/usr/local/lib/python3.10/dist-packages/ipykernel/kernelbase.py\u001b[0m in \u001b[0;36m_input_request\u001b[0;34m(self, prompt, ident, parent, password)\u001b[0m\n\u001b[1;32m    893\u001b[0m             \u001b[0;32mexcept\u001b[0m \u001b[0mKeyboardInterrupt\u001b[0m\u001b[0;34m:\u001b[0m\u001b[0;34m\u001b[0m\u001b[0;34m\u001b[0m\u001b[0m\n\u001b[1;32m    894\u001b[0m                 \u001b[0;31m# re-raise KeyboardInterrupt, to truncate traceback\u001b[0m\u001b[0;34m\u001b[0m\u001b[0;34m\u001b[0m\u001b[0m\n\u001b[0;32m--> 895\u001b[0;31m                 \u001b[0;32mraise\u001b[0m \u001b[0mKeyboardInterrupt\u001b[0m\u001b[0;34m(\u001b[0m\u001b[0;34m\"Interrupted by user\"\u001b[0m\u001b[0;34m)\u001b[0m \u001b[0;32mfrom\u001b[0m \u001b[0;32mNone\u001b[0m\u001b[0;34m\u001b[0m\u001b[0;34m\u001b[0m\u001b[0m\n\u001b[0m\u001b[1;32m    896\u001b[0m             \u001b[0;32mexcept\u001b[0m \u001b[0mException\u001b[0m \u001b[0;32mas\u001b[0m \u001b[0me\u001b[0m\u001b[0;34m:\u001b[0m\u001b[0;34m\u001b[0m\u001b[0;34m\u001b[0m\u001b[0m\n\u001b[1;32m    897\u001b[0m                 \u001b[0mself\u001b[0m\u001b[0;34m.\u001b[0m\u001b[0mlog\u001b[0m\u001b[0;34m.\u001b[0m\u001b[0mwarning\u001b[0m\u001b[0;34m(\u001b[0m\u001b[0;34m\"Invalid Message:\"\u001b[0m\u001b[0;34m,\u001b[0m \u001b[0mexc_info\u001b[0m\u001b[0;34m=\u001b[0m\u001b[0;32mTrue\u001b[0m\u001b[0;34m)\u001b[0m\u001b[0;34m\u001b[0m\u001b[0;34m\u001b[0m\u001b[0m\n",
            "\u001b[0;31mKeyboardInterrupt\u001b[0m: Interrupted by user"
          ]
        }
      ]
    },
    {
      "cell_type": "code",
      "source": [
        "#### Treasure island ####\n",
        "\n",
        "\n",
        "\n",
        "print('Welcome to Treasure Island. Your mission is to find the treasure.')\n",
        "\n",
        "a = input('left of right?')\n",
        "b = input('swim or wait?')\n",
        "c = input('Which door? Red, yellow and blue.')\n",
        "\n",
        "if a == 'left' :\n",
        "  if b == 'swim' :\n",
        "    print('Attacked by trout. Game over.')\n",
        "  else:\n",
        "    if c == 'red':\n",
        "      print('Burned by Fire. Game over')\n",
        "    elif c == 'yellow':\n",
        "      print('You Win!')\n",
        "    elif c == 'blue':\n",
        "      print('Eaten by beasts. Game over.')\n",
        "    else:\n",
        "      print('Game over.')\n",
        "else:\n",
        "  print('Fall into a hole. Game over.')\n",
        "\n"
      ],
      "metadata": {
        "id": "wrK04uwGblEL",
        "colab": {
          "base_uri": "https://localhost:8080/"
        },
        "outputId": "161ffd16-b49e-4743-bb27-9a73d632b1de"
      },
      "execution_count": null,
      "outputs": [
        {
          "output_type": "stream",
          "name": "stdout",
          "text": [
            "Welcome to Treasure Island. Your mission is to find the treasure.\n",
            "left of right?right\n",
            "swim or wait?fuck\n",
            "Which door? Red, yellow and blue.blut\n",
            "Fall into a hole. Game over.\n"
          ]
        }
      ]
    }
  ]
}