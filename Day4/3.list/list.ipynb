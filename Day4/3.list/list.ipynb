{
 "cells": [
  {
   "cell_type": "code",
   "execution_count": null,
   "metadata": {},
   "outputs": [],
   "source": [
    "# fruits = ['pear', 'apple', 'orange']\n",
    "\n",
    "statesOfAmerica = ['Delaware', 'Pennsylvania', \n",
    "'New Jersey', 'Georgia', 'Connecticut', 'Massachusetts', \n",
    "'Maryland', 'South Carolina', 'New Hampshire', 'Virginia', \n",
    "'New York', 'North Carolina', 'Rhode Island', 'Vermont', 'Kentucky', \n",
    "'Tennessee', 'Ohio', 'Louisiana', 'Indiana', 'Mississippi', 'Illinois', \n",
    "'Alabama', 'Maine', 'Missouri', 'Arkansas', 'Michigan', 'Florida', 'Texas', \n",
    "'Iowa', 'Wisconsin', 'California', 'Minnesota', 'Oregon', 'Kansas', 'West Virginia',\n",
    " 'Nevada', 'Nebraska', 'Colorado', 'North Dakota', 'South Dakota', 'Montana',\n",
    "  'Washington', 'Idaho', 'Wyoming', 'Utah', 'Oklahoma', 'New Mexico', 'Arizona',\n",
    "   'Alaska', 'Hawaii']\n",
    "\n",
    "print(statesOfAmerica[0]) # 리스트에 적힌 것중 첫번째를 출력한다\n",
    "print(statesOfAmerica[-3]) # 뒤에서 4번째를 가져온다.\n",
    "\n",
    "statesOfAmerica[1] = 'Pencilvania'\n",
    "print(statesOfAmerica) # 윗줄에서 두번째 항목을 수정한 대로 나온다.\n",
    "\n",
    "statesOfAmerica.append('Angelaland')\n",
    "print(statesOfAmerica) # 리스트에 안젤라랜드를 추가해서 나온다.\n",
    "\n",
    "statesOfAmerica.extend(['Souel','Busan','Daegu'])\n",
    "print(statesOfAmerica) # 리스트에 리스트를 추가한다.\n",
    "\n",
    "# 프로그래밍은 오픈북 시험과 같다. 외울 생각보다 찾아보는게 현명하다!"
   ]
  },
  {
   "cell_type": "code",
   "execution_count": 8,
   "metadata": {},
   "outputs": [
    {
     "name": "stdout",
     "output_type": "stream",
     "text": [
      "Hawaii\n",
      "50\n"
     ]
    }
   ],
   "source": [
    "statesOfAmerica = ['Delaware', 'Pennsylvania', \n",
    "'New Jersey', 'Georgia', 'Connecticut', 'Massachusetts', \n",
    "'Maryland', 'South Carolina', 'New Hampshire', 'Virginia', \n",
    "'New York', 'North Carolina', 'Rhode Island', 'Vermont', 'Kentucky', \n",
    "'Tennessee', 'Ohio', 'Louisiana', 'Indiana', 'Mississippi', 'Illinois', \n",
    "'Alabama', 'Maine', 'Missouri', 'Arkansas', 'Michigan', 'Florida', 'Texas', \n",
    "'Iowa', 'Wisconsin', 'California', 'Minnesota', 'Oregon', 'Kansas', 'West Virginia',\n",
    " 'Nevada', 'Nebraska', 'Colorado', 'North Dakota', 'South Dakota', 'Montana',\n",
    "  'Washington', 'Idaho', 'Wyoming', 'Utah', 'Oklahoma', 'New Mexico', 'Arizona',\n",
    "   'Alaska', 'Hawaii']\n",
    "\n",
    "print(statesOfAmerica[49])\n",
    "\n",
    "num_of_states = len(statesOfAmerica)\n",
    "print(num_of_states)"
   ]
  },
  {
   "cell_type": "code",
   "execution_count": 4,
   "metadata": {},
   "outputs": [
    {
     "name": "stdout",
     "output_type": "stream",
     "text": [
      "[['Straw', 'Spinach', 'Nectarines', 'Apples', 'Grapes', 'Peaches', 'Cherries', 'Pears'], ['Spinach', 'Kale', 'Tomatoes', 'Celery', 'Potatoes']]\n",
      "<class 'list'>\n"
     ]
    }
   ],
   "source": [
    "# fruits = ['Straw', 'Spinach', 'Kale', 'Nectarines', 'Apples', 'Grapes','Peaches','Cherries',\n",
    "# 'Pears','Tomatoes','Celery','Potatoes']\n",
    "\n",
    "fruits = ['Straw', 'Spinach', 'Nectarines', 'Apples', 'Grapes','Peaches','Cherries','Pears']\n",
    "vegetables = ['Spinach', 'Kale', 'Tomatoes', 'Celery', 'Potatoes']\n",
    "\n",
    "dirty_dozen = [fruits, vegetables] # 두 리스트 합치기이다.\n",
    "\n",
    "print(dirty_dozen)\n",
    "print(type(dirty_dozen))"
   ]
  }
 ],
 "metadata": {
  "kernelspec": {
   "display_name": "Python 3",
   "language": "python",
   "name": "python3"
  },
  "language_info": {
   "codemirror_mode": {
    "name": "ipython",
    "version": 3
   },
   "file_extension": ".py",
   "mimetype": "text/x-python",
   "name": "python",
   "nbconvert_exporter": "python",
   "pygments_lexer": "ipython3",
   "version": "3.12.0"
  }
 },
 "nbformat": 4,
 "nbformat_minor": 2
}
